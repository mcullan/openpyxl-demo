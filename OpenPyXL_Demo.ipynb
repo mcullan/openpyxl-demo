{
 "cells": [
  {
   "cell_type": "code",
   "execution_count": 342,
   "metadata": {},
   "outputs": [],
   "source": [
    "import openpyxl\n",
    "import pandas as pd\n",
    "import re"
   ]
  },
  {
   "cell_type": "markdown",
   "metadata": {},
   "source": [
    "# Using OpenPyXL for Excel Workbooks"
   ]
  },
  {
   "cell_type": "markdown",
   "metadata": {},
   "source": [
    "## Why not just use Pandas?"
   ]
  },
  {
   "cell_type": "code",
   "execution_count": 343,
   "metadata": {},
   "outputs": [
    {
     "data": {
      "text/html": [
       "<div>\n",
       "<style scoped>\n",
       "    .dataframe tbody tr th:only-of-type {\n",
       "        vertical-align: middle;\n",
       "    }\n",
       "\n",
       "    .dataframe tbody tr th {\n",
       "        vertical-align: top;\n",
       "    }\n",
       "\n",
       "    .dataframe thead th {\n",
       "        text-align: right;\n",
       "    }\n",
       "</style>\n",
       "<table border=\"1\" class=\"dataframe\">\n",
       "  <thead>\n",
       "    <tr style=\"text-align: right;\">\n",
       "      <th></th>\n",
       "      <th>0</th>\n",
       "      <th>1</th>\n",
       "      <th>2</th>\n",
       "      <th>3</th>\n",
       "      <th>4</th>\n",
       "      <th>5</th>\n",
       "      <th>6</th>\n",
       "      <th>7</th>\n",
       "    </tr>\n",
       "  </thead>\n",
       "  <tbody>\n",
       "    <tr>\n",
       "      <th>0</th>\n",
       "      <td>Period</td>\n",
       "      <td>NaN</td>\n",
       "      <td>NaN</td>\n",
       "      <td>NaN</td>\n",
       "      <td>NaN</td>\n",
       "      <td>NaN</td>\n",
       "      <td>NaN</td>\n",
       "      <td>NaN</td>\n",
       "    </tr>\n",
       "    <tr>\n",
       "      <th>1</th>\n",
       "      <td>2020 March</td>\n",
       "      <td>NaN</td>\n",
       "      <td>NaN</td>\n",
       "      <td>NaN</td>\n",
       "      <td>NaN</td>\n",
       "      <td>NaN</td>\n",
       "      <td>NaN</td>\n",
       "      <td>NaN</td>\n",
       "    </tr>\n",
       "    <tr>\n",
       "      <th>2</th>\n",
       "      <td>Campaign</td>\n",
       "      <td>NaN</td>\n",
       "      <td>NaN</td>\n",
       "      <td>NaN</td>\n",
       "      <td>NaN</td>\n",
       "      <td>NaN</td>\n",
       "      <td>NaN</td>\n",
       "      <td>NaN</td>\n",
       "    </tr>\n",
       "    <tr>\n",
       "      <th>3</th>\n",
       "      <td>Tutorials</td>\n",
       "      <td>NaN</td>\n",
       "      <td>NaN</td>\n",
       "      <td>NaN</td>\n",
       "      <td>NaN</td>\n",
       "      <td>NaN</td>\n",
       "      <td>NaN</td>\n",
       "      <td>NaN</td>\n",
       "    </tr>\n",
       "    <tr>\n",
       "      <th>4</th>\n",
       "      <td>NaN</td>\n",
       "      <td>NaN</td>\n",
       "      <td>NaN</td>\n",
       "      <td>NaN</td>\n",
       "      <td>NaN</td>\n",
       "      <td>NaN</td>\n",
       "      <td>NaN</td>\n",
       "      <td>NaN</td>\n",
       "    </tr>\n",
       "    <tr>\n",
       "      <th>5</th>\n",
       "      <td>NaN</td>\n",
       "      <td>NaN</td>\n",
       "      <td>NaN</td>\n",
       "      <td>NaN</td>\n",
       "      <td>NaN</td>\n",
       "      <td>NaN</td>\n",
       "      <td>NaN</td>\n",
       "      <td>NaN</td>\n",
       "    </tr>\n",
       "    <tr>\n",
       "      <th>6</th>\n",
       "      <td>NaN</td>\n",
       "      <td>NaN</td>\n",
       "      <td>NaN</td>\n",
       "      <td>NaN</td>\n",
       "      <td>NaN</td>\n",
       "      <td>NaN</td>\n",
       "      <td>NaN</td>\n",
       "      <td>NaN</td>\n",
       "    </tr>\n",
       "    <tr>\n",
       "      <th>7</th>\n",
       "      <td>Blog Engagement</td>\n",
       "      <td>NaN</td>\n",
       "      <td>NaN</td>\n",
       "      <td>NaN</td>\n",
       "      <td>NaN</td>\n",
       "      <td>NaN</td>\n",
       "      <td>NaN</td>\n",
       "      <td>NaN</td>\n",
       "    </tr>\n",
       "    <tr>\n",
       "      <th>8</th>\n",
       "      <td>NaN</td>\n",
       "      <td>NaN</td>\n",
       "      <td>NaN</td>\n",
       "      <td>NaN</td>\n",
       "      <td>NaN</td>\n",
       "      <td>NaN</td>\n",
       "      <td>NaN</td>\n",
       "      <td>NaN</td>\n",
       "    </tr>\n",
       "    <tr>\n",
       "      <th>9</th>\n",
       "      <td>Period: 2020 March Campaign: Tutorials  Run D...</td>\n",
       "      <td>NaN</td>\n",
       "      <td>NaN</td>\n",
       "      <td>NaN</td>\n",
       "      <td>NaN</td>\n",
       "      <td>NaN</td>\n",
       "      <td>NaN</td>\n",
       "      <td>NaN</td>\n",
       "    </tr>\n",
       "    <tr>\n",
       "      <th>10</th>\n",
       "      <td>NaN</td>\n",
       "      <td>NaN</td>\n",
       "      <td>NaN</td>\n",
       "      <td>NaN</td>\n",
       "      <td>NaN</td>\n",
       "      <td>NaN</td>\n",
       "      <td>NaN</td>\n",
       "      <td>NaN</td>\n",
       "    </tr>\n",
       "    <tr>\n",
       "      <th>11</th>\n",
       "      <td>Title</td>\n",
       "      <td>Author</td>\n",
       "      <td>Category</td>\n",
       "      <td>Date</td>\n",
       "      <td>Day 1 Traffic</td>\n",
       "      <td>First 7 Days</td>\n",
       "      <td>First 14 Days</td>\n",
       "      <td>First 28 Days</td>\n",
       "    </tr>\n",
       "    <tr>\n",
       "      <th>12</th>\n",
       "      <td>Using Regular Expressions with Pandas</td>\n",
       "      <td>Michael Cullan</td>\n",
       "      <td>Pandas</td>\n",
       "      <td>March 1 2020</td>\n",
       "      <td>1200</td>\n",
       "      <td>2750</td>\n",
       "      <td>3149</td>\n",
       "      <td>3520</td>\n",
       "    </tr>\n",
       "    <tr>\n",
       "      <th>13</th>\n",
       "      <td>Writing to Excel with Pandas and XlsxWriter</td>\n",
       "      <td>Michael Cullan</td>\n",
       "      <td>Pandas</td>\n",
       "      <td>March 8 2020</td>\n",
       "      <td>859</td>\n",
       "      <td>1209</td>\n",
       "      <td>1503</td>\n",
       "      <td>1654</td>\n",
       "    </tr>\n",
       "    <tr>\n",
       "      <th>14</th>\n",
       "      <td>Web Scraping with Pandas</td>\n",
       "      <td>Michael Cullan</td>\n",
       "      <td>Pandas</td>\n",
       "      <td>March 15 2020</td>\n",
       "      <td>630</td>\n",
       "      <td>1131</td>\n",
       "      <td>1320</td>\n",
       "      <td>1531</td>\n",
       "    </tr>\n",
       "    <tr>\n",
       "      <th>15</th>\n",
       "      <td>NaN</td>\n",
       "      <td>NaN</td>\n",
       "      <td>NaN</td>\n",
       "      <td>NaN</td>\n",
       "      <td>2689</td>\n",
       "      <td>5090</td>\n",
       "      <td>5972</td>\n",
       "      <td>6705</td>\n",
       "    </tr>\n",
       "  </tbody>\n",
       "</table>\n",
       "</div>"
      ],
      "text/plain": [
       "                                                    0               1  \\\n",
       "0                                              Period             NaN   \n",
       "1                                          2020 March             NaN   \n",
       "2                                            Campaign             NaN   \n",
       "3                                           Tutorials             NaN   \n",
       "4                                                 NaN             NaN   \n",
       "5                                                 NaN             NaN   \n",
       "6                                                 NaN             NaN   \n",
       "7                                     Blog Engagement             NaN   \n",
       "8                                                 NaN             NaN   \n",
       "9    Period: 2020 March Campaign: Tutorials  Run D...             NaN   \n",
       "10                                                NaN             NaN   \n",
       "11                                              Title          Author   \n",
       "12              Using Regular Expressions with Pandas  Michael Cullan   \n",
       "13        Writing to Excel with Pandas and XlsxWriter  Michael Cullan   \n",
       "14                           Web Scraping with Pandas  Michael Cullan   \n",
       "15                                                NaN             NaN   \n",
       "\n",
       "           2              3              4             5              6  \\\n",
       "0        NaN            NaN            NaN           NaN            NaN   \n",
       "1        NaN            NaN            NaN           NaN            NaN   \n",
       "2        NaN            NaN            NaN           NaN            NaN   \n",
       "3        NaN            NaN            NaN           NaN            NaN   \n",
       "4        NaN            NaN            NaN           NaN            NaN   \n",
       "5        NaN            NaN            NaN           NaN            NaN   \n",
       "6        NaN            NaN            NaN           NaN            NaN   \n",
       "7        NaN            NaN            NaN           NaN            NaN   \n",
       "8        NaN            NaN            NaN           NaN            NaN   \n",
       "9        NaN            NaN            NaN           NaN            NaN   \n",
       "10       NaN            NaN            NaN           NaN            NaN   \n",
       "11  Category           Date  Day 1 Traffic  First 7 Days  First 14 Days   \n",
       "12    Pandas   March 1 2020           1200          2750           3149   \n",
       "13    Pandas   March 8 2020            859          1209           1503   \n",
       "14    Pandas  March 15 2020            630          1131           1320   \n",
       "15       NaN            NaN           2689          5090           5972   \n",
       "\n",
       "                7  \n",
       "0             NaN  \n",
       "1             NaN  \n",
       "2             NaN  \n",
       "3             NaN  \n",
       "4             NaN  \n",
       "5             NaN  \n",
       "6             NaN  \n",
       "7             NaN  \n",
       "8             NaN  \n",
       "9             NaN  \n",
       "10            NaN  \n",
       "11  First 28 Days  \n",
       "12           3520  \n",
       "13           1654  \n",
       "14           1531  \n",
       "15           6705  "
      ]
     },
     "execution_count": 343,
     "metadata": {},
     "output_type": "execute_result"
    }
   ],
   "source": [
    "df = pd.read_excel('example.xlsx', header=None)\n",
    "df"
   ]
  },
  {
   "cell_type": "code",
   "execution_count": 75,
   "metadata": {},
   "outputs": [],
   "source": [
    "df.to_excel('pandas.xlsx')"
   ]
  },
  {
   "cell_type": "code",
   "execution_count": 14,
   "metadata": {},
   "outputs": [],
   "source": [
    "df.to_excel('pandas.xlsx', header=False, index=False)"
   ]
  },
  {
   "cell_type": "markdown",
   "metadata": {},
   "source": [
    "## Opening a spreadsheet with OpenPyXL"
   ]
  },
  {
   "cell_type": "code",
   "execution_count": 344,
   "metadata": {},
   "outputs": [],
   "source": [
    "from openpyxl import load_workbook\n",
    "\n",
    "# Start by opening the spreadsheet and selecting the main sheet\n",
    "workbook = load_workbook(filename=\"example.xlsx\")\n",
    "sheet = workbook.active\n",
    "\n",
    "# Save the spreadsheet\n",
    "workbook.save('openpyxl.xlsx')\n"
   ]
  },
  {
   "cell_type": "markdown",
   "metadata": {},
   "source": [
    "## Extracting data from specific cells"
   ]
  },
  {
   "cell_type": "markdown",
   "metadata": {},
   "source": [
    "We can extract a cell from a worksheet the same way we would perform a dictionary lookup in Python."
   ]
  },
  {
   "cell_type": "code",
   "execution_count": 345,
   "metadata": {},
   "outputs": [
    {
     "data": {
      "text/plain": [
       "<Cell 'Sheet1'.A10>"
      ]
     },
     "execution_count": 345,
     "metadata": {},
     "output_type": "execute_result"
    }
   ],
   "source": [
    "cell = sheet['A10']\n",
    "cell"
   ]
  },
  {
   "cell_type": "markdown",
   "metadata": {},
   "source": [
    "Let's examine some of the contents of the cell."
   ]
  },
  {
   "cell_type": "code",
   "execution_count": 346,
   "metadata": {},
   "outputs": [
    {
     "name": "stdout",
     "output_type": "stream",
     "text": [
      "Coordinate: A10\n",
      "Value:  Period: 2020 March Campaign: Tutorials  Run Date: 4/30/2020\n"
     ]
    }
   ],
   "source": [
    "print(f'Coordinate: {cell.coordinate}')\n",
    "print(f'Value: {cell.value}')"
   ]
  },
  {
   "cell_type": "markdown",
   "metadata": {},
   "source": [
    "Everything looks normal so far. Let's assign the cell's value to a new variable `s`."
   ]
  },
  {
   "cell_type": "code",
   "execution_count": 347,
   "metadata": {},
   "outputs": [
    {
     "data": {
      "text/plain": [
       "'\\xa0Period: 2020 March\\xa0Campaign: Tutorials\\xa0\\xa0Run Date: 4/30/2020'"
      ]
     },
     "execution_count": 347,
     "metadata": {},
     "output_type": "execute_result"
    }
   ],
   "source": [
    "s = sheet['A10'].value\n",
    "s"
   ]
  },
  {
   "cell_type": "markdown",
   "metadata": {},
   "source": [
    "### Clean the text"
   ]
  },
  {
   "cell_type": "markdown",
   "metadata": {},
   "source": [
    "What happened? This doesn't look like it did above. The `\\xa0` characters in the string represent sequences of **bytes**. More specifically, they represent a type of whitespace character in the **utf-8** Unicode string encoding.\n",
    "\n",
    "We can remove these using Python's `unicodedata` module. "
   ]
  },
  {
   "cell_type": "code",
   "execution_count": 348,
   "metadata": {},
   "outputs": [],
   "source": [
    "from unicodedata import normalize"
   ]
  },
  {
   "cell_type": "code",
   "execution_count": 349,
   "metadata": {},
   "outputs": [],
   "source": [
    "def clean_text(text):\n",
    "    \n",
    "    normalized = unicodedata.normalize('NFKC', text)\n",
    "    return normalized.strip()\n"
   ]
  },
  {
   "cell_type": "code",
   "execution_count": 350,
   "metadata": {},
   "outputs": [
    {
     "data": {
      "text/plain": [
       "'Period: 2020 March Campaign: Tutorials  Run Date: 4/30/2020'"
      ]
     },
     "execution_count": 350,
     "metadata": {},
     "output_type": "execute_result"
    }
   ],
   "source": [
    "text = clean_text(s)\n",
    "text"
   ]
  },
  {
   "cell_type": "markdown",
   "metadata": {},
   "source": [
    "### Extract the period, campaign, and run date"
   ]
  },
  {
   "cell_type": "code",
   "execution_count": 351,
   "metadata": {},
   "outputs": [],
   "source": [
    "def get_fields(text):\n",
    "    \n",
    "    regex = re.compile(r'Period: (.*) Campaign: (.*) Run Date: (.*)')\n",
    "    return regex.match(text).groups()\n",
    "    "
   ]
  },
  {
   "cell_type": "code",
   "execution_count": 352,
   "metadata": {},
   "outputs": [],
   "source": [
    "text = clean_text(s)"
   ]
  },
  {
   "cell_type": "code",
   "execution_count": 353,
   "metadata": {},
   "outputs": [
    {
     "name": "stdout",
     "output_type": "stream",
     "text": [
      "2020 March\n",
      "Tutorials \n",
      "4/30/2020\n"
     ]
    }
   ],
   "source": [
    "period, campaign, run_date = get_fields(text)\n",
    "\n",
    "print(period)\n",
    "print(campaign)\n",
    "print(run_date)"
   ]
  },
  {
   "cell_type": "markdown",
   "metadata": {},
   "source": [
    "## Writing into a worksheet"
   ]
  },
  {
   "cell_type": "code",
   "execution_count": 354,
   "metadata": {},
   "outputs": [],
   "source": [
    "from openpyxl.utils import column_index_from_string"
   ]
  },
  {
   "cell_type": "markdown",
   "metadata": {},
   "source": [
    "**Write a value to a single cell**"
   ]
  },
  {
   "cell_type": "code",
   "execution_count": 355,
   "metadata": {},
   "outputs": [],
   "source": [
    "sheet['I12'] = 'Period'\n",
    "sheet['J12'] = 'Campaign'\n",
    "sheet['K12'] = 'Run Date'"
   ]
  },
  {
   "cell_type": "markdown",
   "metadata": {},
   "source": [
    "**Access cells by numerical coordinates**"
   ]
  },
  {
   "cell_type": "code",
   "execution_count": 356,
   "metadata": {},
   "outputs": [
    {
     "name": "stdout",
     "output_type": "stream",
     "text": [
      "I translates to 9\n"
     ]
    },
    {
     "data": {
      "text/plain": [
       "'Period'"
      ]
     },
     "execution_count": 356,
     "metadata": {},
     "output_type": "execute_result"
    }
   ],
   "source": [
    "row = 12\n",
    "col_i = column_index_from_string('I')\n",
    "print(f'I translates to {col}')\n",
    "\n",
    "sheet.cell(row, col).value"
   ]
  },
  {
   "cell_type": "markdown",
   "metadata": {},
   "source": [
    "### What about writing to a range of cells?"
   ]
  },
  {
   "cell_type": "code",
   "execution_count": 357,
   "metadata": {},
   "outputs": [
    {
     "data": {
      "text/plain": [
       "(1, 1, 4, 3)"
      ]
     },
     "execution_count": 357,
     "metadata": {},
     "output_type": "execute_result"
    }
   ],
   "source": [
    "openpyxl.utils.range_boundaries('A1:D3')"
   ]
  },
  {
   "cell_type": "code",
   "execution_count": 358,
   "metadata": {},
   "outputs": [],
   "source": [
    "def fill_range(sheet, range_string, value):\n",
    "    \n",
    "    boundaries = openpyxl.utils.range_boundaries(range_string)\n",
    "    col_start, row_start, col_end, row_end = boundaries\n",
    "    \n",
    "    \n",
    "    for row in range(row_start, row_end+1):\n",
    "        for column in range(col_start, col_end+1):\n",
    "            sheet.cell(row, column).value = value\n",
    "            "
   ]
  },
  {
   "cell_type": "code",
   "execution_count": 359,
   "metadata": {},
   "outputs": [],
   "source": [
    "fill_range(sheet, 'I13:I15', period)\n",
    "fill_range(sheet, 'J13:J15', campaign)\n",
    "fill_range(sheet, 'K13:K15', run_date)"
   ]
  },
  {
   "cell_type": "code",
   "execution_count": 360,
   "metadata": {},
   "outputs": [],
   "source": [
    "workbook.save('example-02.xlsx')"
   ]
  },
  {
   "cell_type": "markdown",
   "metadata": {},
   "source": [
    "## Formatting cells"
   ]
  },
  {
   "cell_type": "code",
   "execution_count": 361,
   "metadata": {},
   "outputs": [],
   "source": [
    "from copy import copy"
   ]
  },
  {
   "cell_type": "code",
   "execution_count": 362,
   "metadata": {},
   "outputs": [],
   "source": [
    "def copy_style_to_range(sheet, source_coordinate, destination_range):\n",
    "    \n",
    "    c, r = openpyxl.utils.coordinate_to_tuple(source_coordinate)\n",
    "    source = sheet.cell(c, r)\n",
    "    boundaries = openpyxl.utils.range_boundaries(destination_range)\n",
    "    col_start, row_start, col_end, row_end = boundaries\n",
    "    \n",
    "    \n",
    "    for row in range(row_start, row_end+1):\n",
    "        for column in range(col_start, col_end+1):\n",
    "            destination = sheet.cell(row, column)\n",
    "            destination._style = copy(source._style)\n"
   ]
  },
  {
   "cell_type": "code",
   "execution_count": 365,
   "metadata": {},
   "outputs": [],
   "source": [
    "copy_style_to_range(sheet, 'H12', 'I12:K12')\n",
    "copy_style_to_range(sheet, 'H13', 'I13:K15')\n",
    "copy_style_to_range(sheet, 'H16', 'I16:K16')"
   ]
  },
  {
   "cell_type": "code",
   "execution_count": 366,
   "metadata": {},
   "outputs": [],
   "source": [
    "workbook.save('example-03.xlsx')"
   ]
  }
 ],
 "metadata": {
  "kernelspec": {
   "display_name": "Python 3",
   "language": "python",
   "name": "python3"
  },
  "language_info": {
   "codemirror_mode": {
    "name": "ipython",
    "version": 3
   },
   "file_extension": ".py",
   "mimetype": "text/x-python",
   "name": "python",
   "nbconvert_exporter": "python",
   "pygments_lexer": "ipython3",
   "version": "3.8.3"
  }
 },
 "nbformat": 4,
 "nbformat_minor": 4
}
