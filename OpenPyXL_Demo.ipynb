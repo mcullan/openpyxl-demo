{
 "cells": [
  {
   "cell_type": "code",
   "execution_count": null,
   "metadata": {},
   "outputs": [],
   "source": [
    "import openpyxl\n",
    "import pandas as pd\n",
    "import re"
   ]
  },
  {
   "cell_type": "code",
   "execution_count": null,
   "metadata": {},
   "outputs": [],
   "source": [
    "import os"
   ]
  },
  {
   "cell_type": "code",
   "execution_count": null,
   "metadata": {},
   "outputs": [],
   "source": [
    "if not os.path.exists('output'):\n",
    "    os.mkdir('output')"
   ]
  },
  {
   "cell_type": "markdown",
   "metadata": {},
   "source": [
    "# Using OpenPyXL for Excel Workbooks"
   ]
  },
  {
   "cell_type": "markdown",
   "metadata": {},
   "source": [
    "In this demo we'll showcase some of the features of [OpenPyXL](), a powerful Python library for reading and writing Excel files. OpenPyXL doesn't give us unlimited access to available Excel commands, but it does allow us to do things like format cells, create and modify sheets, and even generate charts. Moreover, it works even if a machine doesn't have Excel installed! \n",
    "\n",
    "This library can fit in a number of automated workflows including:\n",
    "- Generating reports\n",
    "- Checking data integrity\n",
    "- Modifying structure of spreadsheets\n",
    "\n",
    "We're going to focus on this last one."
   ]
  },
  {
   "cell_type": "markdown",
   "metadata": {},
   "source": [
    "<img src=\"img/example.png\">"
   ]
  },
  {
   "cell_type": "markdown",
   "metadata": {},
   "source": [
    "Take a look at the spreadsheet above. Let's say we want to take the contents of cell A10 and parse them into three pieces of information: period, campaign, and run date. Then, we want to create three new columns in the table at the bottom, and fill them with this information. \n",
    "\n",
    "For a single file, it would be trivial to do this by hand. But what if this is just one file among hundreds of the same template, and we've been asked to modify all of them? "
   ]
  },
  {
   "cell_type": "markdown",
   "metadata": {},
   "source": [
    "## Can't we just use Pandas?"
   ]
  },
  {
   "cell_type": "markdown",
   "metadata": {},
   "source": [
    "Without even showing what would be involved in creating these columns in Pandas, let's just note what happens if we read in an Excel file and write it back to a new file without modifying anything."
   ]
  },
  {
   "cell_type": "code",
   "execution_count": null,
   "metadata": {},
   "outputs": [],
   "source": [
    "df = pd.read_excel('example.xlsx', header=None)\n",
    "df"
   ]
  },
  {
   "cell_type": "code",
   "execution_count": null,
   "metadata": {},
   "outputs": [],
   "source": [
    "df.to_excel('output/pandas-01.xlsx')"
   ]
  },
  {
   "cell_type": "markdown",
   "metadata": {},
   "source": [
    "<img src=\"img/pandas-01.png\">\n"
   ]
  },
  {
   "cell_type": "markdown",
   "metadata": {},
   "source": [
    "### Get rid of column headers and index"
   ]
  },
  {
   "cell_type": "code",
   "execution_count": null,
   "metadata": {},
   "outputs": [],
   "source": [
    "df.to_excel('output/pandas-02.xlsx', header=False, index=False)"
   ]
  },
  {
   "cell_type": "markdown",
   "metadata": {},
   "source": [
    "<img src=\"img/pandas-02.png\">\n"
   ]
  },
  {
   "cell_type": "markdown",
   "metadata": {},
   "source": [
    "Pandas destroys all formatting when it reads in data from and Excel file. It does this with good reason - it is built for efficient computation, not for working specifically with Excel and designing spreadsheets.\n",
    "\n",
    "But if we need to maintain formatting, we will need a different tool."
   ]
  },
  {
   "cell_type": "markdown",
   "metadata": {},
   "source": [
    "## Pandas vs OpenPyXL pros and cons\n",
    "\n",
    "When should we use each library? \n",
    "\n",
    "- Pandas is much better suited for efficient data analysis but has limited functionality for writing Excel files. It is the gold standard for working with tabular data in Python. \n",
    "\n",
    "- OpenPyXL allows for sophisticated Excel operations but is VERY memory-intensive. It is better suited for automatically generating nicely-formatted reports or for automating the modification of many small Excel files.\n",
    "\n",
    "Note also that the two can be used in conjunction with one another! "
   ]
  },
  {
   "cell_type": "markdown",
   "metadata": {},
   "source": [
    "## Opening a spreadsheet with OpenPyXL"
   ]
  },
  {
   "cell_type": "code",
   "execution_count": null,
   "metadata": {},
   "outputs": [],
   "source": [
    "from openpyxl import load_workbook"
   ]
  },
  {
   "cell_type": "markdown",
   "metadata": {},
   "source": [
    "We work with files in OpenPyXL in an object-oriented manner. At the most basic level, we have the following hierarchy of objects. There are other classes as well, e.g. Sheet could technically be a worksheet or a chart sheet, but this gives us a basic idea:\n",
    "\n",
    "- Workbook\n",
    "    - Sheet\n",
    "        - Cell\n",
    "        \n",
    "First, we load a workbook. Then we define a variable `sheet` as the currently active sheet - whatever would be visible when opening the file."
   ]
  },
  {
   "cell_type": "code",
   "execution_count": null,
   "metadata": {},
   "outputs": [],
   "source": [
    "# Start by opening the spreadsheet and selecting the main sheet\n",
    "workbook = load_workbook(filename=\"example.xlsx\")\n",
    "sheet = workbook.active\n"
   ]
  },
  {
   "cell_type": "markdown",
   "metadata": {},
   "source": [
    "We can save a workbook with `workbook.save()`"
   ]
  },
  {
   "cell_type": "code",
   "execution_count": null,
   "metadata": {},
   "outputs": [],
   "source": [
    "# Save the spreadsheet\n",
    "workbook.save('output/openpyxl.xlsx')\n"
   ]
  },
  {
   "cell_type": "markdown",
   "metadata": {},
   "source": [
    "<img src=\"img/openpyxl.png\">\n",
    "Note that it preserves the original formatting!"
   ]
  },
  {
   "cell_type": "markdown",
   "metadata": {},
   "source": [
    "When we're done with a workbook, we close it with `workbook.close()` to free up memory. This is important, as OpenPyXL is very memory intensive! The documentation states that a 50MB notebook can use as much as 2.5GB of memory!"
   ]
  },
  {
   "cell_type": "code",
   "execution_count": null,
   "metadata": {},
   "outputs": [],
   "source": [
    "workbook.close()\n"
   ]
  },
  {
   "cell_type": "markdown",
   "metadata": {},
   "source": [
    "## Extracting data from specific cells"
   ]
  },
  {
   "cell_type": "markdown",
   "metadata": {},
   "source": [
    "Let's get to work extracting the data from A10 and parsing it. "
   ]
  },
  {
   "cell_type": "code",
   "execution_count": null,
   "metadata": {},
   "outputs": [],
   "source": [
    "workbook = load_workbook(filename=\"example.xlsx\")\n",
    "sheet = workbook.active"
   ]
  },
  {
   "cell_type": "markdown",
   "metadata": {},
   "source": [
    "We can extract a cell from a worksheet the same way we would perform a dictionary lookup in Python."
   ]
  },
  {
   "cell_type": "code",
   "execution_count": null,
   "metadata": {},
   "outputs": [],
   "source": [
    "cell = sheet['A10']\n",
    "cell"
   ]
  },
  {
   "cell_type": "markdown",
   "metadata": {},
   "source": [
    "Let's examine some of the contents of the cell."
   ]
  },
  {
   "cell_type": "code",
   "execution_count": null,
   "metadata": {},
   "outputs": [],
   "source": [
    "print(f'Coordinate: {cell.coordinate}')\n",
    "print(f'Value: {cell.value}')"
   ]
  },
  {
   "cell_type": "markdown",
   "metadata": {},
   "source": [
    "Everything looks normal so far. Let's assign the cell's value to a new variable `s`."
   ]
  },
  {
   "cell_type": "code",
   "execution_count": null,
   "metadata": {},
   "outputs": [],
   "source": [
    "s = sheet['A10'].value\n",
    "s"
   ]
  },
  {
   "cell_type": "markdown",
   "metadata": {},
   "source": [
    "### Clean the text"
   ]
  },
  {
   "cell_type": "markdown",
   "metadata": {},
   "source": [
    "What happened? This doesn't look like it did above. The `\\xa0` characters in the string represent sequences of **bytes**. More specifically, they represent a type of whitespace character in the **utf-8** Unicode string encoding.\n",
    "\n",
    "We can remove these using Python's `unicodedata` module. "
   ]
  },
  {
   "cell_type": "code",
   "execution_count": null,
   "metadata": {},
   "outputs": [],
   "source": [
    "from unicodedata import normalize"
   ]
  },
  {
   "cell_type": "code",
   "execution_count": null,
   "metadata": {},
   "outputs": [],
   "source": [
    "def clean_text(text):\n",
    "    \n",
    "    normalized = normalize('NFKC', text)\n",
    "    return normalized.strip()\n"
   ]
  },
  {
   "cell_type": "code",
   "execution_count": null,
   "metadata": {},
   "outputs": [],
   "source": [
    "text = clean_text(s)\n",
    "text"
   ]
  },
  {
   "cell_type": "markdown",
   "metadata": {},
   "source": [
    "### Extract the period, campaign, and run date"
   ]
  },
  {
   "cell_type": "markdown",
   "metadata": {},
   "source": [
    "Here we use [Regular Expressions](https://en.wikipedia.org/wiki/Regular_expression) (regex) to parse the cell for the information we want. Regex is a rich subject with extremely powerful applications, but is outside the scope of this demo. \n",
    "\n",
    "For now, just note that we have the string `(.*)` three times in the expression below. These are telling regex which substrings we want to capture from the original string."
   ]
  },
  {
   "cell_type": "code",
   "execution_count": null,
   "metadata": {},
   "outputs": [],
   "source": [
    "def get_fields(text):\n",
    "    \n",
    "    regex = re.compile(r'Period: (.*) Campaign: (.*) Run Date: (.*)')\n",
    "    return regex.match(text).groups()\n",
    "    "
   ]
  },
  {
   "cell_type": "code",
   "execution_count": null,
   "metadata": {},
   "outputs": [],
   "source": [
    "get_fields(text)"
   ]
  },
  {
   "cell_type": "code",
   "execution_count": null,
   "metadata": {},
   "outputs": [],
   "source": [
    "period, campaign, run_date = get_fields(text)\n",
    "\n",
    "print(period)\n",
    "print(campaign)\n",
    "print(run_date)"
   ]
  },
  {
   "cell_type": "markdown",
   "metadata": {},
   "source": [
    "## Writing into a worksheet"
   ]
  },
  {
   "cell_type": "code",
   "execution_count": null,
   "metadata": {},
   "outputs": [],
   "source": [
    "from openpyxl.utils import column_index_from_string"
   ]
  },
  {
   "cell_type": "markdown",
   "metadata": {},
   "source": [
    "**Write a value to a single cell**"
   ]
  },
  {
   "cell_type": "code",
   "execution_count": null,
   "metadata": {},
   "outputs": [],
   "source": [
    "sheet['I12'] = 'Period'\n",
    "sheet['J12'] = 'Campaign'\n",
    "sheet['K12'] = 'Run Date'"
   ]
  },
  {
   "cell_type": "markdown",
   "metadata": {},
   "source": [
    "**Access cells by numerical coordinates**"
   ]
  },
  {
   "cell_type": "code",
   "execution_count": null,
   "metadata": {},
   "outputs": [],
   "source": [
    "row = 12\n",
    "col = column_index_from_string('I')\n",
    "print(f'I translates to {col}')\n",
    "\n",
    "sheet.cell(row, col).value"
   ]
  },
  {
   "cell_type": "markdown",
   "metadata": {},
   "source": [
    "### What about writing to a range of cells?\n",
    "\n",
    "If we want to write a value or values to multiple cells in OpenPyXL, the best we can do is to iterate over cell objects. \n",
    "\n",
    "This is most conveniently done with a numerical (column, row) notation, but we can do some extra work to translate between this and the typical notation for cell ranges we use in Excel.\n",
    "\n",
    "Notably, "
   ]
  },
  {
   "cell_type": "code",
   "execution_count": null,
   "metadata": {},
   "outputs": [],
   "source": [
    "from openpyxl.utils import range_boundaries"
   ]
  },
  {
   "cell_type": "code",
   "execution_count": null,
   "metadata": {},
   "outputs": [],
   "source": [
    "range_boundaries('A1:D3')"
   ]
  },
  {
   "cell_type": "code",
   "execution_count": null,
   "metadata": {},
   "outputs": [],
   "source": [
    "def fill_range(sheet, range_string, value):\n",
    "    \n",
    "    boundaries = range_boundaries(range_string)\n",
    "    col_start, row_start, col_end, row_end = boundaries\n",
    "    \n",
    "    \n",
    "    for row in range(row_start, row_end+1):\n",
    "        for column in range(col_start, col_end+1):\n",
    "            sheet.cell(row, column).value = value\n",
    "            "
   ]
  },
  {
   "cell_type": "code",
   "execution_count": null,
   "metadata": {},
   "outputs": [],
   "source": [
    "fill_range(sheet, 'I13:I15', period)\n",
    "fill_range(sheet, 'J13:J15', campaign)\n",
    "fill_range(sheet, 'K13:K15', run_date)"
   ]
  },
  {
   "cell_type": "code",
   "execution_count": null,
   "metadata": {},
   "outputs": [],
   "source": [
    "workbook.save('output/result-01.xlsx')"
   ]
  },
  {
   "cell_type": "markdown",
   "metadata": {},
   "source": [
    "<img src=\"img/result-01.png\">\n"
   ]
  },
  {
   "cell_type": "markdown",
   "metadata": {},
   "source": [
    "## Formatting cells"
   ]
  },
  {
   "cell_type": "markdown",
   "metadata": {},
   "source": [
    "OpenPyXL has rich support for formatting cells, including:\n",
    "\n",
    "- Font\n",
    "- Text alignment\n",
    "- Number style\n",
    "- Borders\n",
    "- Fill color\n",
    "\n",
    "and all of these can be modified individually. But we'll focus on a simple task here: copying the formatting of one cell to another."
   ]
  },
  {
   "cell_type": "code",
   "execution_count": null,
   "metadata": {},
   "outputs": [],
   "source": [
    "from copy import copy\n",
    "from openpyxl.utils import coordinate_to_tuple"
   ]
  },
  {
   "cell_type": "code",
   "execution_count": null,
   "metadata": {},
   "outputs": [],
   "source": [
    "def copy_style_to_range(sheet, source_coordinate, destination_range):\n",
    "    \n",
    "    c, r = openpyxl.utils.coordinate_to_tuple(source_coordinate)\n",
    "    source = sheet.cell(c, r)\n",
    "    boundaries = range_boundaries(destination_range)\n",
    "    col_start, row_start, col_end, row_end = boundaries\n",
    "    \n",
    "    \n",
    "    for row in range(row_start, row_end+1):\n",
    "        for column in range(col_start, col_end+1):\n",
    "            destination = sheet.cell(row, column)\n",
    "            destination._style = copy(source._style)\n"
   ]
  },
  {
   "cell_type": "code",
   "execution_count": null,
   "metadata": {},
   "outputs": [],
   "source": [
    "copy_style_to_range(sheet, 'H12', 'I12:K12')\n",
    "copy_style_to_range(sheet, 'H13', 'I13:K15')\n",
    "copy_style_to_range(sheet, 'H16', 'I16:K16')"
   ]
  },
  {
   "cell_type": "code",
   "execution_count": null,
   "metadata": {},
   "outputs": [],
   "source": [
    "workbook.save('output/result-02.xlsx')\n",
    "workbook.close()"
   ]
  },
  {
   "cell_type": "markdown",
   "metadata": {},
   "source": [
    "<img src=\"img/result-02.png\">\n"
   ]
  },
  {
   "cell_type": "code",
   "execution_count": null,
   "metadata": {},
   "outputs": [],
   "source": []
  }
 ],
 "metadata": {
  "kernelspec": {
   "display_name": "Python 3",
   "language": "python",
   "name": "python3"
  },
  "language_info": {
   "codemirror_mode": {
    "name": "ipython",
    "version": 3
   },
   "file_extension": ".py",
   "mimetype": "text/x-python",
   "name": "python",
   "nbconvert_exporter": "python",
   "pygments_lexer": "ipython3",
   "version": "3.8.3"
  }
 },
 "nbformat": 4,
 "nbformat_minor": 4
}
